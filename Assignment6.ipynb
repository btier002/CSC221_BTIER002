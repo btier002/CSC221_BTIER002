{
  "nbformat": 4,
  "nbformat_minor": 0,
  "metadata": {
    "colab": {
      "provenance": [],
      "authorship_tag": "ABX9TyOL1F+/GDrTe5G9pFgIp0CY",
      "include_colab_link": true
    },
    "kernelspec": {
      "name": "python3",
      "display_name": "Python 3"
    },
    "language_info": {
      "name": "python"
    }
  },
  "cells": [
    {
      "cell_type": "markdown",
      "metadata": {
        "id": "view-in-github",
        "colab_type": "text"
      },
      "source": [
        "<a href=\"https://colab.research.google.com/github/btier002/CSC221_BTIER002/blob/main/Assignment6.ipynb\" target=\"_parent\"><img src=\"https://colab.research.google.com/assets/colab-badge.svg\" alt=\"Open In Colab\"/></a>"
      ]
    },
    {
      "cell_type": "markdown",
      "source": [
        "# Crash course assignment 6\n",
        "\n"
      ],
      "metadata": {
        "id": "olgi5OpKyYpd"
      }
    },
    {
      "cell_type": "code",
      "execution_count": null,
      "metadata": {
        "colab": {
          "base_uri": "https://localhost:8080/"
        },
        "id": "Kgwf66kUyHrU",
        "outputId": "803626a5-914e-4df1-a742-0317e2194630"
      },
      "outputs": [
        {
          "output_type": "stream",
          "name": "stdout",
          "text": [
            "Is animal == 'cat'? I predict True.\n",
            "True\n",
            "\n",
            "Is animal == 'dog'? I predict False.\n",
            "False\n"
          ]
        }
      ],
      "source": [
        "# TIY 5-1 Conditional Tests\n",
        "animal = \"cat\"\n",
        "print(\"Is animal == 'cat'? I predict True.\")\n",
        "print(animal == 'cat')\n",
        "\n",
        "print(\"\\nIs animal == 'dog'? I predict False.\")\n",
        "print(animal == 'dog')"
      ]
    },
    {
      "cell_type": "code",
      "source": [
        "# TIY 5-2 More conditional tests\n",
        "## Exercise 5.2 More Conditional Tests\n",
        "\n",
        "friend_1=\"Nick\"\n",
        "friend_2=\"John\"\n",
        "\n",
        "#Equality of strings\n",
        "\n",
        "if (friend_1 == friend_1):\n",
        "    print(\"Equal!\")\n",
        "else:\n",
        "    print(\"Unequal!\")\n",
        "if(friend_1 != friend_1):\n",
        "    print(\"The names are unequal\")\n",
        "else:\n",
        "    print(\"The names are equal\")\n",
        "age_1 = 18\n",
        "\n",
        "age_2 = 23\n",
        "\n",
        "if (age_1 ==18):\n",
        "    print(\"Person is eligible to vote\")\n",
        "if(age_1 != 23):\n",
        "          print(\"Person cannot drink\")\n",
        "if(age_1 <= age_2):\n",
        "    print(\"Younger\")\n",
        "if(age_2 >= age_1):\n",
        "    print(\"Older\")\n",
        "\n",
        "fruits = ['apple','peach','melon']\n",
        "if 'apple' in fruits:\n",
        "    print(\"Apple is present in fruits\")\n",
        "if 'banana' not in fruits:\n",
        "    print(\"banana is not present in fruits\")"
      ],
      "metadata": {
        "colab": {
          "base_uri": "https://localhost:8080/"
        },
        "id": "Pp6SKbMzziM3",
        "outputId": "102aa923-3019-4059-a733-f07d940553f5"
      },
      "execution_count": null,
      "outputs": [
        {
          "output_type": "stream",
          "name": "stdout",
          "text": [
            "Equal!\n",
            "The names are equal\n",
            "Person is eligible to vote\n",
            "Person cannot drink\n",
            "Yonger\n",
            "Older\n",
            "Apple is present in fruits\n",
            "banana is not present in fruits\n"
          ]
        }
      ]
    },
    {
      "cell_type": "code",
      "source": [
        "# TIY 5-3 Alien Colors\n",
        "alien_color = 'green'\n",
        "\n",
        "if alien_color == 'green':\n",
        "    print(\"You just earned 5 points!\")"
      ],
      "metadata": {
        "id": "VhPs80K80YQc"
      },
      "execution_count": null,
      "outputs": []
    },
    {
      "cell_type": "code",
      "source": [
        "# TIY 5-4 Alien Colors 2\n",
        "alien_color = 'green'\n",
        "\n",
        "if alien_color == 'green':\n",
        "    print(\"You just earned 5 points!\")\n",
        "else:\n",
        "    print(\"You just earned 10 points!\")"
      ],
      "metadata": {
        "id": "QSPi8BRL0iJk"
      },
      "execution_count": null,
      "outputs": []
    },
    {
      "cell_type": "code",
      "source": [
        "# TIY 5-5 3\n",
        "alien_color = 'red'\n",
        "\n",
        "if alien_color == 'green':\n",
        "    print(\"You just earned 5 points!\")\n",
        "elif alien_color == 'yellow':\n",
        "    print(\"You just earned 10 points!\")\n",
        "else:\n",
        "    print(\"You just earned 15 points!\")"
      ],
      "metadata": {
        "id": "TU0bQ5lX0sJ2"
      },
      "execution_count": null,
      "outputs": []
    },
    {
      "cell_type": "code",
      "source": [
        "# TIY 5-6 Stages of Life\n",
        "age = 17\n",
        "\n",
        "if age < 3:\n",
        "    print(\"You are a baby!\")\n",
        "elif age < 5:\n",
        "    print(\"You are a child!\")\n",
        "elif age < 13:\n",
        "    print(\"You are a elememtary school kid!\")\n",
        "elif age < 19:\n",
        "    print(\"You are a teenager!\")\n",
        "elif age < 65:\n",
        "    print(\"You are an adult!\")\n",
        "else:\n",
        "    print(\"You are a senior citizen!\")"
      ],
      "metadata": {
        "id": "X1D8VOvC0ybi"
      },
      "execution_count": null,
      "outputs": []
    },
    {
      "cell_type": "code",
      "source": [
        "# TIY 5-7 Favorite Fruit\n",
        "favorite_fruits = ['blueberries', 'salmonberries', 'peaches']\n",
        "\n",
        "if 'bananas' in favorite_fruits:\n",
        "    print(\"You really like bananas!\")\n",
        "if 'apples' in favorite_fruits:\n",
        "    print(\"You really like apples!\")\n",
        "if 'blueberries' in favorite_fruits:\n",
        "    print(\"You really like blueberries!\")\n",
        "if 'kiwis' in favorite_fruits:\n",
        "    print(\"You really like kiwis!\")\n",
        "if 'peaches' in favorite_fruits:\n",
        "    print(\"You really like peaches!\")"
      ],
      "metadata": {
        "id": "qr1KHdrJ1Lpl"
      },
      "execution_count": null,
      "outputs": []
    },
    {
      "cell_type": "code",
      "source": [
        "# TIY 5-8 Hello Admin\n",
        "usernames = ['bea', 'bob', 'admin', 'jim', 'word']\n",
        "\n",
        "for username in usernames:\n",
        "    if username == 'admin':\n",
        "        print(\"Hello admin, would you like to see a status report?\")\n",
        "    else:\n",
        "        print(f\"Hello {username}, thank you for loggin in again!\")"
      ],
      "metadata": {
        "id": "4NKoVbN_xxFp"
      },
      "execution_count": null,
      "outputs": []
    },
    {
      "cell_type": "code",
      "source": [
        "# TIY 5-9 No Users\n",
        "usernames = []\n",
        "\n",
        "if usernames:\n",
        "    for username in usernames:\n",
        "        if username == 'admin':\n",
        "            print(\"Hello admin, would you like to see a status report?\")\n",
        "        else:\n",
        "            print(f\"Hello {username}, thank you for loggin in again!\")\n",
        "else:\n",
        "    print(\"We need to find some users!\")"
      ],
      "metadata": {
        "id": "CuutmQxTyDcv"
      },
      "execution_count": null,
      "outputs": []
    },
    {
      "cell_type": "code",
      "source": [
        "# TIY 5-10 Checking Username\n",
        "current_users = ['bea', 'bob', 'admin', 'jim', 'word']\n",
        "new_users = ['bob', 'yes', 'BEA', 'donkey', 'shrek']\n",
        "\n",
        "current_users_lower = [user.lower() for user in current_users]\n",
        "\n",
        "for new_user in new_users:\n",
        "    if new_user.lower() in current_users_lower:\n",
        "        print(f\"Sorry {new_user}, that name is taken.\")\n",
        "    else:\n",
        "        print(f\"Great, {new_user} is still available.\")\n"
      ],
      "metadata": {
        "colab": {
          "base_uri": "https://localhost:8080/"
        },
        "id": "0BreJCvRyNck",
        "outputId": "04e56480-57e1-46f7-8b86-5f4fbd67d21b"
      },
      "execution_count": 1,
      "outputs": [
        {
          "output_type": "stream",
          "name": "stdout",
          "text": [
            "Sorry bob, that name is taken.\n",
            "Great, yes is still available.\n",
            "Sorry BEA, that name is taken.\n",
            "Great, donkey is still available.\n",
            "Great, shrek is still available.\n"
          ]
        }
      ]
    },
    {
      "cell_type": "code",
      "source": [
        "# 5-11 Ordinal Numbers\n",
        "numbers = list(range(1,10))\n",
        "\n",
        "for number in numbers:\n",
        "    if number == 1:\n",
        "        print(\"1st\")\n",
        "    elif number == 2:\n",
        "        print(\"2nd\")\n",
        "    elif number == 3:\n",
        "        print(\"3rd\")\n",
        "    else:\n",
        "        print(f\"{number}th\")"
      ],
      "metadata": {
        "id": "AHEz85uvytcS"
      },
      "execution_count": null,
      "outputs": []
    }
  ]
}