{
  "nbformat": 4,
  "nbformat_minor": 0,
  "metadata": {
    "colab": {
      "provenance": [],
      "authorship_tag": "ABX9TyOcMq2NHZysO76IsqSutGUo",
      "include_colab_link": true
    },
    "kernelspec": {
      "name": "python3",
      "display_name": "Python 3"
    },
    "language_info": {
      "name": "python"
    }
  },
  "cells": [
    {
      "cell_type": "markdown",
      "metadata": {
        "id": "view-in-github",
        "colab_type": "text"
      },
      "source": [
        "<a href=\"https://colab.research.google.com/github/btier002/CSC221_BTIER002/blob/main/Assignment5.ipynb\" target=\"_parent\"><img src=\"https://colab.research.google.com/assets/colab-badge.svg\" alt=\"Open In Colab\"/></a>"
      ]
    },
    {
      "cell_type": "markdown",
      "source": [
        "# Assignment 5 in crash course"
      ],
      "metadata": {
        "id": "KC-HCdFnpR-0"
      }
    },
    {
      "cell_type": "code",
      "execution_count": null,
      "metadata": {
        "colab": {
          "base_uri": "https://localhost:8080/"
        },
        "id": "iX14nsPhpMDT",
        "outputId": "ab00e557-7fa8-4c69-f1a7-0669e50ca34b"
      },
      "outputs": [
        {
          "output_type": "stream",
          "name": "stdout",
          "text": [
            "i like this type of pizza: pepperoni\n",
            "i like this type of pizza: cheese\n",
            "i like this type of pizza: four cheese\n",
            "i really love pizza!!!!\n"
          ]
        }
      ],
      "source": [
        "# TIY 4-1 Pizzas\n",
        "pizzas = [\"pepperoni\", \"cheese\", \"four cheese\"]\n",
        "\n",
        "for pizza in pizzas:\n",
        "  print(\"i like this type of pizza:\", pizza)\n",
        "print(\"i really love pizza!!!!\")"
      ]
    },
    {
      "cell_type": "code",
      "source": [
        "# TIY 4-2 Animals\n",
        "house_animals = [\"dog\", \"cat\", \"hamster\"]\n",
        "\n",
        "for animal in house_animals:\n",
        "  print(animal)\n",
        "  print(f\"A {animal} is a house pet\")\n",
        "\n",
        "\n",
        "\n",
        "\n",
        "print(\"they are all common house pets\")"
      ],
      "metadata": {
        "colab": {
          "base_uri": "https://localhost:8080/"
        },
        "id": "Lf0UXeofrgW-",
        "outputId": "75d496fe-d67f-46c8-80a7-9a3095c93772"
      },
      "execution_count": null,
      "outputs": [
        {
          "output_type": "stream",
          "name": "stdout",
          "text": [
            "dog\n",
            "A dog is a house pet\n",
            "cat\n",
            "A cat is a house pet\n",
            "hamster\n",
            "A hamster is a house pet\n",
            "they are all common house pets\n"
          ]
        }
      ]
    },
    {
      "cell_type": "code",
      "source": [
        "# TIY 4-3 Counting to Twenty\n",
        "numbers = list(range(1, 21))\n",
        "\n",
        "for number in numbers:\n",
        "    print(number)"
      ],
      "metadata": {
        "colab": {
          "base_uri": "https://localhost:8080/"
        },
        "id": "P5jUQbaft1E2",
        "outputId": "a7d74203-02dc-4845-a4e3-d1c866acde78"
      },
      "execution_count": null,
      "outputs": [
        {
          "output_type": "stream",
          "name": "stdout",
          "text": [
            "1\n",
            "2\n",
            "3\n",
            "4\n",
            "5\n",
            "6\n",
            "7\n",
            "8\n",
            "9\n",
            "10\n",
            "11\n",
            "12\n",
            "13\n",
            "14\n",
            "15\n",
            "16\n",
            "17\n",
            "18\n",
            "19\n",
            "20\n"
          ]
        }
      ]
    },
    {
      "cell_type": "code",
      "source": [
        "# TIY 4-4 One million\n",
        "numbers = list(range(0, 1000000))\n",
        "\n",
        "for number in numbers:\n",
        "    print(number)"
      ],
      "metadata": {
        "id": "zzUGmCMXuBR4"
      },
      "execution_count": null,
      "outputs": []
    },
    {
      "cell_type": "code",
      "source": [
        "# TIY 4-5 Summing a million\n",
        "numbers = list(range(1, 1_000_001))\n",
        "\n",
        "print(min(numbers))\n",
        "print(max(numbers))\n",
        "print(sum(numbers))"
      ],
      "metadata": {
        "id": "o84edL0SuUtc"
      },
      "execution_count": null,
      "outputs": []
    },
    {
      "cell_type": "code",
      "source": [
        "# TIY 4-6 Odd numbers\n",
        "odd_numbers = list(range(1, 20, 2))\n",
        "\n",
        "for number in odd_numbers:\n",
        "    print(number)"
      ],
      "metadata": {
        "id": "N1JDRDPAuaui"
      },
      "execution_count": null,
      "outputs": []
    },
    {
      "cell_type": "code",
      "source": [
        "# TIY 4-7 Threes\n",
        "threes = list(range(3, 31, 3))\n",
        "\n",
        "for number in threes:\n",
        "    print(number)"
      ],
      "metadata": {
        "id": "g2rvzkHcuf3J"
      },
      "execution_count": null,
      "outputs": []
    },
    {
      "cell_type": "code",
      "source": [
        "# TIY 4-8 Cubes\n",
        "cubes = []\n",
        "for number in range(1, 11):\n",
        "    cube = number**3\n",
        "    cubes.append(cube)\n",
        "\n",
        "for cube in cubes:\n",
        "    print(cube)"
      ],
      "metadata": {
        "id": "OFoceFpaumm3"
      },
      "execution_count": null,
      "outputs": []
    },
    {
      "cell_type": "code",
      "source": [
        "# TIY 4-9 Cube Comp.\n",
        "cubes = [number**3 for number in range(1,11)]\n",
        "\n",
        "for cube in cubes:\n",
        "    print(cube)"
      ],
      "metadata": {
        "id": "1Gz-mQGHurKA"
      },
      "execution_count": null,
      "outputs": []
    },
    {
      "cell_type": "code",
      "source": [
        "# TIY 4-10 Slices\n",
        "pizzas = [\"pepperoni\", \"cheese\", \"four cheese\"]\n",
        "\n",
        "for pizza in pizzas:\n",
        "  print(\"i like this type of pizza:\", pizza)\n",
        "print(\"i really love pizza!!!!\")\n"
      ],
      "metadata": {
        "id": "WEr7Vygovq1Y"
      },
      "execution_count": null,
      "outputs": []
    },
    {
      "cell_type": "code",
      "source": [
        "# TIY 4-11 My pizzas your pizza\n",
        "pizzas = ['pepperoni', 'cheese', 'four cheese']\n",
        "\n",
        "friend_pizzas = pizzas[:]\n",
        "\n",
        "pizzas.append(\"pinnaple\")\n",
        "friend_pizzas.append('five cheese')\n",
        "\n",
        "print(\"My favorite pizzas are:\")\n",
        "for pizza in pizzas:\n",
        "    print(f\"- {pizza}\")\n",
        "\n",
        "print(\"\\nMy friend's favorite pizzas are:\")\n",
        "for pizza in friend_pizzas:\n",
        "    print(f\"- {pizza}\")"
      ],
      "metadata": {
        "colab": {
          "base_uri": "https://localhost:8080/"
        },
        "id": "jgFDFxRVuyVW",
        "outputId": "394b22c8-00bd-4119-d3be-65e0a14e1169"
      },
      "execution_count": null,
      "outputs": [
        {
          "output_type": "stream",
          "name": "stdout",
          "text": [
            "My favorite pizzas are:\n",
            "- pepperoni\n",
            "- cheese\n",
            "- four cheese\n",
            "- pinnaple\n",
            "\n",
            "My friend's favorite pizzas are:\n",
            "- pepperoni\n",
            "- cheese\n",
            "- four cheese\n",
            "- five cheese\n"
          ]
        }
      ]
    },
    {
      "cell_type": "code",
      "source": [
        "# TIY 4-12 More Loops\n",
        "my_foods = ['pizza', 'falafel', 'carrot cake']\n",
        "friend_foods = my_foods[:]\n",
        "\n",
        "my_foods.append('cannoli')\n",
        "friend_foods.append('ice cream')\n",
        "\n",
        "print(\"My favorite foods are:\")\n",
        "for food in my_foods:\n",
        "    print(f\"- {food}\")\n",
        "\n",
        "print(\"\\nMy friend's favorite foods are:\")\n",
        "for food in friend_foods:\n",
        "    print(f\"- {food}\")"
      ],
      "metadata": {
        "id": "0HiN0l19wxIq"
      },
      "execution_count": null,
      "outputs": []
    },
    {
      "cell_type": "code",
      "source": [
        "# TIY 4-13\n",
        "menu_items = (\n",
        "    'salmon', 'chicken', 'lobster',\n",
        "    'salmon burger', 'crab cakes',\n",
        "    )\n",
        "\n",
        "print(\"You can choose from the following menu items:\")\n",
        "for item in menu_items:\n",
        "    print(f\"- {item}\")\n",
        "\n",
        "menu_items = (\n",
        "    'salmon', 'chicken', 'clam chowder',\n",
        "    'lobster bites', 'sushi',\n",
        "    )\n",
        "\n",
        "print(\"\\nOur menu has been updated.\")\n",
        "print(\"You can now choose from the following items:\")\n",
        "for item in menu_items:\n",
        "    print(f\"- {item}\")"
      ],
      "metadata": {
        "colab": {
          "base_uri": "https://localhost:8080/"
        },
        "id": "aM0g3HcDw43h",
        "outputId": "b195cf93-ce89-4530-a87f-ecd8dab14c11"
      },
      "execution_count": null,
      "outputs": [
        {
          "output_type": "stream",
          "name": "stdout",
          "text": [
            "You can choose from the following menu items:\n",
            "- salmon\n",
            "- chicken\n",
            "- lobster\n",
            "- salmon burger\n",
            "- crab cakes\n",
            "\n",
            "Our menu has been updated.\n",
            "You can now choose from the following items:\n",
            "- salmon\n",
            "- chicken\n",
            "- clam chowder\n",
            "- lobster bites\n",
            "- sushi\n"
          ]
        }
      ]
    },
    {
      "cell_type": "code",
      "source": [
        "# I read the"
      ],
      "metadata": {
        "id": "tEO_4nXJxWyC"
      },
      "execution_count": null,
      "outputs": []
    }
  ]
}