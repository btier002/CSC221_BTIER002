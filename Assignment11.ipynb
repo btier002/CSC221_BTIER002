{
  "nbformat": 4,
  "nbformat_minor": 0,
  "metadata": {
    "colab": {
      "provenance": [],
      "authorship_tag": "ABX9TyOyynJR10Bxs8fw9WPKgNjl",
      "include_colab_link": true
    },
    "kernelspec": {
      "name": "python3",
      "display_name": "Python 3"
    },
    "language_info": {
      "name": "python"
    }
  },
  "cells": [
    {
      "cell_type": "markdown",
      "metadata": {
        "id": "view-in-github",
        "colab_type": "text"
      },
      "source": [
        "<a href=\"https://colab.research.google.com/github/btier002/CSC221_BTIER002/blob/main/Assignment11.ipynb\" target=\"_parent\"><img src=\"https://colab.research.google.com/assets/colab-badge.svg\" alt=\"Open In Colab\"/></a>"
      ]
    },
    {
      "cell_type": "code",
      "execution_count": 1,
      "metadata": {
        "id": "y2fyOESBG0FG"
      },
      "outputs": [],
      "source": [
        "# Dog examples\n",
        "# The Dog class\n",
        "class Dog:\n",
        "    \"\"\"A simple attempt to model a dog.\"\"\"\n",
        "\n",
        "    def __init__(self, name, age):\n",
        "        \"\"\"Initialize name and age attributes.\"\"\"\n",
        "        self.name = name\n",
        "        self.age = age\n",
        "\n",
        "    def sit(self):\n",
        "        \"\"\"Simulate a dog sitting in response to a command.\"\"\"\n",
        "        print(f\"{self.name} is now sitting.\")\n",
        "\n",
        "    def roll_over(self):\n",
        "        \"\"\"Simulate rolling over in response to a command.\"\"\"\n",
        "        print(f\"{self.name} rolled over!\")"
      ]
    },
    {
      "cell_type": "code",
      "source": [
        "# Instance\n",
        "my_dog = Dog('Willie', 6)\n",
        "print(f\"My dog's name is {my_dog.name}.\")\n",
        "print(f\"My dog is {my_dog.age} years old.\")"
      ],
      "metadata": {
        "colab": {
          "base_uri": "https://localhost:8080/"
        },
        "id": "XRwvM5cdHDSu",
        "outputId": "733cbb84-3c2b-4dcf-fe55-812969879e0d"
      },
      "execution_count": 2,
      "outputs": [
        {
          "output_type": "stream",
          "name": "stdout",
          "text": [
            "My dog's name is Willie.\n",
            "My dog is 6 years old.\n"
          ]
        }
      ]
    },
    {
      "cell_type": "code",
      "source": [
        "# Multiple instances\n",
        "# the sit attribute\n",
        "my_dog = Dog('Willie', 6)\n",
        "your_dog = Dog('Lucy', 3)\n",
        "\n",
        "print(f\"My dog's name is {my_dog.name}.\")\n",
        "print(f\"My dog is {my_dog.age} years old.\")\n",
        "my_dog.sit()\n",
        "\n",
        "print(f\"\\nYour dog's name is {your_dog.name}.\")\n",
        "print(f\"Your dog is {your_dog.age} years old.\")\n",
        "your_dog.sit()"
      ],
      "metadata": {
        "colab": {
          "base_uri": "https://localhost:8080/"
        },
        "id": "oagPeI1NHZNZ",
        "outputId": "c97d9c13-8002-46c6-afce-b69c63ba7cd0"
      },
      "execution_count": 3,
      "outputs": [
        {
          "output_type": "stream",
          "name": "stdout",
          "text": [
            "My dog's name is Willie.\n",
            "My dog is 6 years old.\n",
            "Willie is now sitting.\n",
            "\n",
            "Your dog's name is Lucy.\n",
            "Your dog is 3 years old.\n",
            "Lucy is now sitting.\n"
          ]
        }
      ]
    },
    {
      "cell_type": "code",
      "source": [
        "# TIY 9-1 Restaurant\n",
        "class Restaurant:\n",
        "    def __init__(self, name, cuisine_type):\n",
        "        self.name = name.title()\n",
        "        self.cuisine_type = cuisine_type\n",
        "\n",
        "    def describe_restaurant(self):\n",
        "        msg = f\"{self.name} serves {self.cuisine_type}.\"\n",
        "        print(f\"\\n{msg}\")\n",
        "\n",
        "    def open_restaurant(self):\n",
        "        msg = f\"{self.name} is open.\"\n",
        "        print(f\"\\n{msg}\")\n",
        "\n",
        "restaurant = Restaurant('buffalo wild wings', 'wings')\n",
        "print(restaurant.name)\n",
        "print(restaurant.cuisine_type)\n",
        "restaurant.describe_restaurant()\n",
        "restaurant.open_restaurant()"
      ],
      "metadata": {
        "colab": {
          "base_uri": "https://localhost:8080/"
        },
        "id": "6eFIXtSIHl5j",
        "outputId": "c50e1f76-6f09-421a-b94d-1166f827ab3e"
      },
      "execution_count": 6,
      "outputs": [
        {
          "output_type": "stream",
          "name": "stdout",
          "text": [
            "Buffalo Wild Wings\n",
            "wings\n",
            "\n",
            "Buffalo Wild Wings serves wings.\n",
            "\n",
            "Buffalo Wild Wings is open.\n"
          ]
        }
      ]
    },
    {
      "cell_type": "code",
      "source": [
        "# TIY 9-2 Three Restaurants\n",
        "class Restaurant:\n",
        "\n",
        "    def __init__(self, name, cuisine_type):\n",
        "        self.name = name.title()\n",
        "        self.cuisine_type = cuisine_type\n",
        "\n",
        "    def describe_restaurant(self):\n",
        "        msg = f\"{self.name} serves {self.cuisine_type}.\"\n",
        "        print(f\"\\n{msg}\")\n",
        "\n",
        "    def open_restaurant(self):\n",
        "        msg = f\"{self.name} is open.\"\n",
        "        print(f\"\\n{msg}\")\n",
        "\n",
        "buffalo_wild_wings = Restaurant('buffalo wild wings', 'wings')\n",
        "buffalo_wild_wings.describe_restaurant()\n",
        "\n",
        "butcher_block = Restaurant(\"butcher block\", 'variety')\n",
        "butcher_block.describe_restaurant()\n",
        "\n",
        "red_lobster = Restaurant('red lobster', 'seafood')\n",
        "red_lobster.describe_restaurant()"
      ],
      "metadata": {
        "colab": {
          "base_uri": "https://localhost:8080/"
        },
        "id": "sMznk5yuIYiy",
        "outputId": "7ebd4d90-ffaa-46d5-cacd-5630c193efbe"
      },
      "execution_count": 7,
      "outputs": [
        {
          "output_type": "stream",
          "name": "stdout",
          "text": [
            "\n",
            "Buffalo Wild Wings serves wings.\n",
            "\n",
            "Butcher Block serves variety.\n",
            "\n",
            "Red Lobster serves seafood.\n"
          ]
        }
      ]
    },
    {
      "cell_type": "code",
      "source": [
        "# TIY 9-3 Users:\n",
        "class User:\n",
        "\n",
        "    def __init__(self, first_name, last_name, username, email, location):\n",
        "        self.first_name = first_name.title()\n",
        "        self.last_name = last_name.title()\n",
        "        self.username = username\n",
        "        self.email = email\n",
        "        self.location = location.title()\n",
        "\n",
        "    def describe_user(self):\n",
        "        print(f\"\\n{self.first_name} {self.last_name}\")\n",
        "        print(f\"  Username: {self.username}\")\n",
        "        print(f\"  Email: {self.email}\")\n",
        "        print(f\"  Location: {self.location}\")\n",
        "\n",
        "    def greet_user(self):\n",
        "        print(f\"\\nWelcome back, {self.username}!\")\n",
        "\n",
        "bea = User('bea', 'tierney', 'btier', 'btier@plattsburgh.edu', 'new york')\n",
        "bea.describe_user()\n",
        "bea.greet_user()\n",
        "\n",
        "john = User('john', 'bob', 'jbob', 'jbob@gmail.com', 'florida')\n",
        "john.describe_user()\n",
        "john.greet_user()"
      ],
      "metadata": {
        "colab": {
          "base_uri": "https://localhost:8080/"
        },
        "id": "4qR6yNL2JeMV",
        "outputId": "79399af2-71a0-4d72-f91d-5589723579cd"
      },
      "execution_count": 9,
      "outputs": [
        {
          "output_type": "stream",
          "name": "stdout",
          "text": [
            "\n",
            "Bea Tierney\n",
            "  Username: btier\n",
            "  Email: btier@plattsburgh.edu\n",
            "  Location: New York\n",
            "\n",
            "Welcome back, btier!\n",
            "\n",
            "John Bob\n",
            "  Username: jbob\n",
            "  Email: jbob@gmail.com\n",
            "  Location: Florida\n",
            "\n",
            "Welcome back, jbob!\n"
          ]
        }
      ]
    },
    {
      "cell_type": "code",
      "source": [
        "# Example code for cars\n",
        "class Car:\n",
        "    \"\"\"A simple attempt to represent a car.\"\"\"\n",
        "\n",
        "    def __init__(self, make, model, year):\n",
        "        self.make = make\n",
        "        self.model = model\n",
        "        self.year = year\n",
        "        self.odometer_reading = 0\n",
        "\n",
        "    def get_descriptive_name(self):\n",
        "        long_name = f\"{self.year} {self.make} {self.model}\"\n",
        "        return long_name.title()\n",
        "\n",
        "    def read_odometer(self):\n",
        "        print(f\"This car has {self.odometer_reading} miles on it.\")\n",
        "\n",
        "    def update_odometer(self, mileage):\n",
        "        if mileage >= self.odometer_reading:\n",
        "            self.odometer_reading = mileage\n",
        "        else:\n",
        "            print(\"You can't roll back an odometer!\")\n",
        "\n",
        "    def increment_odometer(self, miles):\n",
        "        self.odometer_reading += miles\n"
      ],
      "metadata": {
        "id": "d3ug0escKjTP"
      },
      "execution_count": 15,
      "outputs": []
    },
    {
      "cell_type": "code",
      "source": [
        "class ElectricCar(Car):\n",
        "\n",
        "    \"\"\"Represent aspects of a car, specific to electric vehicles.\"\"\"\n",
        "    def __init__(self, make, model, year):\n",
        "        \"\"\"Initialize attributes of the parent class.\"\"\"\n",
        "        super().__init__(make, model, year)"
      ],
      "metadata": {
        "id": "-PXZs8gQLXTH"
      },
      "execution_count": 32,
      "outputs": []
    },
    {
      "cell_type": "code",
      "source": [
        "my_leaf = ElectricCar('nissan', 'leaf', 2024)\n",
        "print(my_leaf.get_descriptive_name())"
      ],
      "metadata": {
        "colab": {
          "base_uri": "https://localhost:8080/"
        },
        "id": "Kj6AtwOsLyS1",
        "outputId": "b36ff131-86d8-454d-a144-93405aac2df4"
      },
      "execution_count": 33,
      "outputs": [
        {
          "output_type": "stream",
          "name": "stdout",
          "text": [
            "2024 Nissan Leaf\n"
          ]
        }
      ]
    },
    {
      "cell_type": "code",
      "source": [
        "# TIY 9-6 Ice Cream Stand\n",
        "class Restaurant:\n",
        "\n",
        "    def __init__(self, name, cuisine_type):\n",
        "        self.name = name.title()\n",
        "        self.cuisine_type = cuisine_type\n",
        "        self.number_served = 0\n",
        "\n",
        "    def describe_restaurant(self):\n",
        "        msg = f\"{self.name} serves {self.cuisine_type}.\"\n",
        "        print(f\"\\n{msg}\")\n",
        "\n",
        "    def open_restaurant(self):\n",
        "        msg = f\"{self.name} is open.\"\n",
        "        print(f\"\\n{msg}\")\n",
        "\n",
        "    def set_number_served(self, number_served):\n",
        "        self.number_served = number_served\n",
        "\n",
        "    def increment_number_served(self, additional_served):\n",
        "        self.number_served += additional_served\n",
        "\n",
        "\n",
        "class IceCreamStand(Restaurant):\n",
        "\n",
        "    def __init__(self, name, cuisine_type='ice cream'):\n",
        "        super().__init__(name, cuisine_type)\n",
        "        self.flavors = []\n",
        "\n",
        "    def show_flavors(self):\n",
        "        print(\"\\nWe have the following flavors:\")\n",
        "        for flavor in self.flavors:\n",
        "            print(f\"- {flavor.title()}\")\n",
        "\n",
        "\n",
        "harrigans = IceCreamStand('The Big One')\n",
        "harrigans.flavors = ['vanilla', 'chocolate', 'strawberry', 'cotton candy']\n",
        "\n",
        "harrigans.describe_restaurant()\n",
        "harrigans.show_flavors()"
      ],
      "metadata": {
        "colab": {
          "base_uri": "https://localhost:8080/"
        },
        "id": "DvIT45GHL01o",
        "outputId": "80121023-1815-4e45-dc7a-5b0c2749a50b"
      },
      "execution_count": 34,
      "outputs": [
        {
          "output_type": "stream",
          "name": "stdout",
          "text": [
            "\n",
            "The Big One serves ice cream.\n",
            "\n",
            "We have the following flavors:\n",
            "- Vanilla\n",
            "- Chocolate\n",
            "- Strawberry\n",
            "- Cotton Candy\n"
          ]
        }
      ]
    },
    {
      "cell_type": "code",
      "source": [
        "# TIY 9-7 Admin\n",
        "class User:\n",
        "\n",
        "    def __init__(self, first_name, last_name, username, email, location):\n",
        "        self.first_name = first_name.title()\n",
        "        self.last_name = last_name.title()\n",
        "        self.username = username\n",
        "        self.email = email\n",
        "        self.location = location.title()\n",
        "        self.login_attempts = 0\n",
        "\n",
        "    def describe_user(self):\n",
        "        print(f\"\\n{self.first_name} {self.last_name}\")\n",
        "        print(f\"  Username: {self.username}\")\n",
        "        print(f\"  Email: {self.email}\")\n",
        "        print(f\"  Location: {self.location}\")\n",
        "\n",
        "    def greet_user(self):\n",
        "        print(f\"\\nWelcome back, {self.username}!\")\n",
        "\n",
        "    def increment_login_attempts(self):\n",
        "        self.login_attempts += 1\n",
        "\n",
        "    def reset_login_attempts(self):\n",
        "        self.login_attempts = 0\n",
        "\n",
        "class Admin(User):\n",
        "\n",
        "    def __init__(self, first_name, last_name, username, email, location):\n",
        "        super().__init__(first_name, last_name, username, email, location)\n",
        "        self.privileges = []\n",
        "\n",
        "    def show_privileges(self):\n",
        "        print(\"\\nPrivileges:\")\n",
        "        for privilege in self.privileges:\n",
        "            print(f\"- {privilege}\")\n",
        "\n",
        "bea = Admin('bea', 'tierney', 'btier', 'btier@plattsburgh.edu', 'new york')\n",
        "bea.describe_user()\n",
        "\n",
        "bea.privileges = [\n",
        "    'can reset passwords',\n",
        "    'can moderate discussions',\n",
        "    'can suspend accounts',\n",
        "    ]\n",
        "\n",
        "bea.show_privileges()"
      ],
      "metadata": {
        "colab": {
          "base_uri": "https://localhost:8080/"
        },
        "id": "XMz0JQGsM0TB",
        "outputId": "fb616759-cddf-4af2-9d19-2f828c179433"
      },
      "execution_count": 35,
      "outputs": [
        {
          "output_type": "stream",
          "name": "stdout",
          "text": [
            "\n",
            "Bea Tierney\n",
            "  Username: btier\n",
            "  Email: btier@plattsburgh.edu\n",
            "  Location: New York\n",
            "\n",
            "Privileges:\n",
            "- can reset passwords\n",
            "- can moderate discussions\n",
            "- can suspend accounts\n"
          ]
        }
      ]
    }
  ]
}