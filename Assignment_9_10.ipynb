{
  "nbformat": 4,
  "nbformat_minor": 0,
  "metadata": {
    "colab": {
      "provenance": [],
      "authorship_tag": "ABX9TyMp74QfcKT34eMWvuKS7Vrb",
      "include_colab_link": true
    },
    "kernelspec": {
      "name": "python3",
      "display_name": "Python 3"
    },
    "language_info": {
      "name": "python"
    }
  },
  "cells": [
    {
      "cell_type": "markdown",
      "metadata": {
        "id": "view-in-github",
        "colab_type": "text"
      },
      "source": [
        "<a href=\"https://colab.research.google.com/github/btier002/CSC221_BTIER002/blob/main/Assignment_9_10.ipynb\" target=\"_parent\"><img src=\"https://colab.research.google.com/assets/colab-badge.svg\" alt=\"Open In Colab\"/></a>"
      ]
    },
    {
      "cell_type": "markdown",
      "source": [
        "# Kinematic Equation Physics 111 final velocity example\n",
        "- One returned value\n",
        "- Uses equation to calculate based on variables"
      ],
      "metadata": {
        "id": "wk4qvGazUmQd"
      }
    },
    {
      "cell_type": "code",
      "execution_count": null,
      "metadata": {
        "colab": {
          "base_uri": "https://localhost:8080/"
        },
        "id": "el-KYwb9Tq7R",
        "outputId": "a09566bb-1de7-4a75-83b6-a2c704a90574"
      },
      "outputs": [
        {
          "output_type": "stream",
          "name": "stdout",
          "text": [
            "The final velocity is 16.0 m/s\n"
          ]
        }
      ],
      "source": [
        "\n",
        "def calculate_final_velocity(vi, a, t):\n",
        "    vf = vi + a * t\n",
        "    return vf\n",
        "\n",
        "initial_velocity = 10.0\n",
        "acceleration = 2.0\n",
        "time = 3.0\n",
        "\n"
      ]
    },
    {
      "cell_type": "code",
      "source": [
        "final_velocity = calculate_final_velocity(initial_velocity, acceleration, time)\n",
        "print(f\"The final velocity is {final_velocity} m/s\")"
      ],
      "metadata": {
        "id": "5E_xNUN6Uw5P"
      },
      "execution_count": null,
      "outputs": []
    },
    {
      "cell_type": "markdown",
      "source": [
        "# Kinematic Equation Physics 111 displacement example\n",
        "- One returned value\n",
        "- Uses equation to calculate based on variables"
      ],
      "metadata": {
        "id": "kQkpe3pCUmuM"
      }
    },
    {
      "cell_type": "code",
      "source": [
        "def calculate_displacement(initial_velocity, time, acceleration):\n",
        "    displacement = initial_velocity * time + 0.5 * acceleration * time**2\n",
        "    return displacement\n",
        "\n",
        "initial_velocity = 10\n",
        "time = 2\n",
        "acceleration = 5\n",
        "\n"
      ],
      "metadata": {
        "id": "lcHexZjYUkHb"
      },
      "execution_count": null,
      "outputs": []
    },
    {
      "cell_type": "code",
      "source": [
        "result = displacement(initial_velocity, time, acceleration)\n",
        "print(\"The displacement is:\", result, \"meters\")"
      ],
      "metadata": {
        "colab": {
          "base_uri": "https://localhost:8080/"
        },
        "id": "-mKsLFsvUprV",
        "outputId": "905b0226-fc57-483f-8cad-d8cd974905ba"
      },
      "execution_count": null,
      "outputs": [
        {
          "output_type": "stream",
          "name": "stdout",
          "text": [
            "The displacement is: 30.0 meters\n"
          ]
        }
      ]
    },
    {
      "cell_type": "markdown",
      "source": [
        "# Two to tuple\n",
        "- Gets two inputs from the user\n",
        "- Puts them into a tuple\n"
      ],
      "metadata": {
        "id": "UFueh2QhVVLl"
      }
    },
    {
      "cell_type": "code",
      "source": [
        "def user_values():\n",
        "    input_value1 = input(\"Enter the first value: \")\n",
        "    input_value2 = input(\"Enter the second value: \")\n",
        "    return input_value1, input_value2"
      ],
      "metadata": {
        "id": "Z9c9sLKhVVoz"
      },
      "execution_count": null,
      "outputs": []
    },
    {
      "cell_type": "code",
      "source": [
        "value1, value2 = get_user_input()\n",
        "print(\"First value:\", value1)\n",
        "print(\"Second value:\", value2)"
      ],
      "metadata": {
        "colab": {
          "base_uri": "https://localhost:8080/"
        },
        "id": "JlPI_O6eVkyM",
        "outputId": "57f6e2d5-bb18-4228-e0ec-59b87a0c6613"
      },
      "execution_count": null,
      "outputs": [
        {
          "output_type": "stream",
          "name": "stdout",
          "text": [
            "Enter the first value: 1\n",
            "Enter the second value: 2\n",
            "First value: 1\n",
            "Second value: 2\n"
          ]
        }
      ]
    },
    {
      "cell_type": "markdown",
      "source": [
        "# Happy Birthday To You!\n",
        "- Checks system date to check for your inputed birthday\n",
        "- Tells you happy birthday if it is your birthday"
      ],
      "metadata": {
        "id": "6CudFRV3Vi1K"
      }
    },
    {
      "cell_type": "code",
      "source": [
        "from datetime import datetime\n",
        "\n",
        "def check_birthday(birthday):\n",
        "\n",
        "    today = datetime.now().strftime('%m-%d')\n",
        "    if today == birthday:\n",
        "        return True\n",
        "    else:\n",
        "        return False\n",
        "\n",
        "def main():\n",
        "    user_birthday = input(\"Enter your birthday (MM-DD): \")\n",
        "    if check_birthday == user_birthday:\n",
        "        print(\"Happy birthday to you!\")\n",
        "    else:\n",
        "        print(\"Today is not your birthday. Have a great day anyway!\")\n",
        "\n",
        "\n"
      ],
      "metadata": {
        "id": "uuwwWjpOWa1H"
      },
      "execution_count": null,
      "outputs": []
    },
    {
      "cell_type": "code",
      "source": [
        "if __name__ == \"__main__\":\n",
        "    main()"
      ],
      "metadata": {
        "colab": {
          "base_uri": "https://localhost:8080/"
        },
        "id": "MAAHwRQOW6Xm",
        "outputId": "ee581e08-8194-4c06-886d-7381793582d2"
      },
      "execution_count": null,
      "outputs": [
        {
          "output_type": "stream",
          "name": "stdout",
          "text": [
            "Enter your birthday (MM-DD): 03-06\n",
            "Today is not your birthday. Have a great day anyway!\n"
          ]
        }
      ]
    },
    {
      "cell_type": "markdown",
      "source": [
        "# Backpack Inventory Function\n",
        "- keeps track of whats in your backpack\n",
        "- user can add or remove from the backpack\n",
        "- uses classes to keep track of inventory\n"
      ],
      "metadata": {
        "id": "Hw5KU8BFW50E"
      }
    },
    {
      "cell_type": "code",
      "source": [
        "class BackpackInventory:\n",
        "    def __init__(self):\n",
        "        self.inventory = {}\n",
        "\n",
        "    def add_item(self, item, quantity=1):\n",
        "        if item in self.inventory:\n",
        "            self.inventory[item] += quantity\n",
        "        else:\n",
        "            self.inventory[item] = quantity\n",
        "\n",
        "    def remove_item(self, item, quantity=1):\n",
        "        if item in self.inventory:\n",
        "            if self.inventory[item] >= quantity:\n",
        "                self.inventory[item] -= quantity\n",
        "                if self.inventory[item] == 0:\n",
        "                    del self.inventory[item]\n",
        "            else:\n",
        "                print(\"Error: Not enough {} in inventory.\".format(item))\n",
        "        else:\n",
        "            print(\"Error: {} not found in inventory.\".format(item))\n",
        "\n",
        "    def display_inventory(self):\n",
        "        print(\"Backpack Inventory:\")\n",
        "        for item, quantity in self.inventory.items():\n",
        "            print(\"- {}: {}\".format(item, quantity))\n",
        "\n",
        "# For adding and removing items\n",
        "def main():\n",
        "    backpack = BackpackInventory()\n",
        "\n",
        "    backpack.add_item(\"Water Bottle\", 2)\n",
        "    backpack.add_item(\"Snacks\", 5)\n",
        "    backpack.add_item(\"Notebook\")\n",
        "\n",
        "    backpack.display_inventory()\n",
        "\n",
        "    backpack.remove_item(\"Water Bottle\")\n",
        "    backpack.remove_item(\"Snacks\", 3)\n",
        "\n",
        "    backpack.display_inventory()"
      ],
      "metadata": {
        "id": "vEcpGYDZXkug"
      },
      "execution_count": null,
      "outputs": []
    },
    {
      "cell_type": "code",
      "source": [
        "if __name__ == \"__main__\":\n",
        "    main()"
      ],
      "metadata": {
        "colab": {
          "base_uri": "https://localhost:8080/"
        },
        "id": "88o4FUTqYm8i",
        "outputId": "d82226d2-d7e0-46a5-a017-f17729b16d45"
      },
      "execution_count": null,
      "outputs": [
        {
          "output_type": "stream",
          "name": "stdout",
          "text": [
            "Backpack Inventory:\n",
            "- Water Bottle: 2\n",
            "- Snacks: 5\n",
            "- Notebook: 1\n",
            "Backpack Inventory:\n",
            "- Water Bottle: 1\n",
            "- Snacks: 2\n",
            "- Notebook: 1\n"
          ]
        }
      ]
    },
    {
      "cell_type": "markdown",
      "source": [
        "# Check and guess"
      ],
      "metadata": {
        "id": "xhIhWDIU4XFL"
      }
    },
    {
      "cell_type": "code",
      "source": [
        "def solve_puzzle(target):\n",
        "    epsilon = 0.01\n",
        "    step = 0.1\n",
        "    guess = 0.0\n",
        "\n",
        "    while abs(guess**2 - target) >= epsilon:\n",
        "        if guess**2 < target:\n",
        "            guess += step\n",
        "        else:\n",
        "            guess -= step\n",
        "\n",
        "    return guess\n",
        "\n",
        "\n"
      ],
      "metadata": {
        "id": "bHJD8V6RYw2o"
      },
      "execution_count": null,
      "outputs": []
    },
    {
      "cell_type": "code",
      "source": [
        "\n",
        "target_number = 25\n",
        "solution = solve_puzzle(target_number)\n",
        "print(\"The square root of\", target_number, \"is approximately\", solution)\n",
        "print(\"The square of the solution is:\", solution**2)"
      ],
      "metadata": {
        "id": "JVH2T3Rp4cg7"
      },
      "execution_count": null,
      "outputs": []
    },
    {
      "cell_type": "markdown",
      "source": [
        "# Simply arr sorter"
      ],
      "metadata": {
        "id": "uA3vz2tr4hLc"
      }
    },
    {
      "cell_type": "code",
      "source": [
        "def simple_sort(arr):\n",
        "    return sorted(arr)"
      ],
      "metadata": {
        "id": "G1RaQ_Yk4gZ7"
      },
      "execution_count": 2,
      "outputs": []
    },
    {
      "cell_type": "code",
      "source": [
        "\n",
        "my_list = [64, 34, 25, 12, 22, 11, 90]\n",
        "sorted_list = simple_sort(my_list)\n",
        "print(\"Sorted array is:\", sorted_list)"
      ],
      "metadata": {
        "colab": {
          "base_uri": "https://localhost:8080/"
        },
        "id": "RNg3DwRV4hxk",
        "outputId": "d099f10c-e852-467b-e674-62af32f5453d"
      },
      "execution_count": 3,
      "outputs": [
        {
          "output_type": "stream",
          "name": "stdout",
          "text": [
            "Sorted array is: [11, 12, 22, 25, 34, 64, 90]\n"
          ]
        }
      ]
    },
    {
      "cell_type": "markdown",
      "source": [
        "# simple dictionary function\n",
        "- makes a dictionary for keys"
      ],
      "metadata": {
        "id": "ul_JzgM945nt"
      }
    },
    {
      "cell_type": "code",
      "source": [
        "def create_dictionary(keys, values):\n",
        "    if len(keys) != len(values):\n",
        "        raise ValueError(\"Length of keys list must be equal to length of values list\")\n",
        "\n",
        "    dictionary = {}\n",
        "    for key, value in zip(keys, values):\n",
        "        dictionary[key] = value\n",
        "\n",
        "    return dictionary\n",
        "\n",
        "\n"
      ],
      "metadata": {
        "id": "WJQfB36u457J"
      },
      "execution_count": 5,
      "outputs": []
    },
    {
      "cell_type": "code",
      "source": [
        "\n",
        "keys = ['a', 'b', 'c']\n",
        "values = [1, 2, 3]\n",
        "result_dict = create_dictionary(keys, values)\n",
        "print(\"Resulting dictionary:\", result_dict)"
      ],
      "metadata": {
        "colab": {
          "base_uri": "https://localhost:8080/"
        },
        "id": "byFFqmn146NY",
        "outputId": "9bff3dae-258d-416f-8505-6d4b6eae6413"
      },
      "execution_count": 6,
      "outputs": [
        {
          "output_type": "stream",
          "name": "stdout",
          "text": [
            "Resulting dictionary: {'a': 1, 'b': 2, 'c': 3}\n"
          ]
        }
      ]
    },
    {
      "cell_type": "markdown",
      "source": [
        "# Pythagoreon Theorem function\n",
        "- calculates the hypotenuse"
      ],
      "metadata": {
        "id": "xdiahuv66Wh1"
      }
    },
    {
      "cell_type": "code",
      "source": [
        "def pythagorean_theorem(a, b):\n",
        "    hypotenuse = (a**2 + b**2)**0.5\n",
        "    return hypotenuse\n",
        "\n"
      ],
      "metadata": {
        "id": "0N-uLKjZ6Eh7"
      },
      "execution_count": 8,
      "outputs": []
    },
    {
      "cell_type": "code",
      "source": [
        "\n",
        "side1 = 3\n",
        "side2 = 4\n",
        "hypotenuse_length = pythagorean_theorem(side1, side2)\n",
        "print(\"Length of the hypotenuse:\", hypotenuse_length)\n"
      ],
      "metadata": {
        "colab": {
          "base_uri": "https://localhost:8080/"
        },
        "id": "2FaGD7AP6XFj",
        "outputId": "dda403f4-8cce-4365-f9e2-257fde272bfb"
      },
      "execution_count": 9,
      "outputs": [
        {
          "output_type": "stream",
          "name": "stdout",
          "text": [
            "Length of the hypotenuse: 5.0\n"
          ]
        }
      ]
    },
    {
      "cell_type": "markdown",
      "source": [
        "# Area of rectangle"
      ],
      "metadata": {
        "id": "FOG19G_G6kPH"
      }
    },
    {
      "cell_type": "code",
      "source": [
        "def rectangle_area(length, width):\n",
        "\n",
        "    area = length * width\n",
        "    return area\n",
        "\n",
        "\n"
      ],
      "metadata": {
        "id": "euVCbv9v6kgF"
      },
      "execution_count": 11,
      "outputs": []
    },
    {
      "cell_type": "code",
      "source": [
        "\n",
        "length = 5\n",
        "width = 3\n",
        "area = rectangle_area(length, width)\n",
        "print(\"Area of the rectangle:\", area)"
      ],
      "metadata": {
        "colab": {
          "base_uri": "https://localhost:8080/"
        },
        "id": "hOj5Cytd6kpz",
        "outputId": "4cb392d7-851f-48b1-e472-95365f56d6f5"
      },
      "execution_count": 12,
      "outputs": [
        {
          "output_type": "stream",
          "name": "stdout",
          "text": [
            "Area of the rectangle: 15\n"
          ]
        }
      ]
    }
  ]
}