{
  "nbformat": 4,
  "nbformat_minor": 0,
  "metadata": {
    "colab": {
      "provenance": [],
      "authorship_tag": "ABX9TyOLH+Fw2I9H0jYtTYFjuRS3",
      "include_colab_link": true
    },
    "kernelspec": {
      "name": "python3",
      "display_name": "Python 3"
    },
    "language_info": {
      "name": "python"
    }
  },
  "cells": [
    {
      "cell_type": "markdown",
      "metadata": {
        "id": "view-in-github",
        "colab_type": "text"
      },
      "source": [
        "<a href=\"https://colab.research.google.com/github/btier002/CSC221_BTIER002/blob/main/Assignment8.ipynb\" target=\"_parent\"><img src=\"https://colab.research.google.com/assets/colab-badge.svg\" alt=\"Open In Colab\"/></a>"
      ]
    },
    {
      "cell_type": "code",
      "execution_count": 1,
      "metadata": {
        "colab": {
          "base_uri": "https://localhost:8080/"
        },
        "id": "jb1Bp3wo0Khf",
        "outputId": "11ae6d61-dbeb-4714-d85c-2cdcc1140be6"
      },
      "outputs": [
        {
          "output_type": "stream",
          "name": "stdout",
          "text": [
            "Im learning about functions\n"
          ]
        }
      ],
      "source": [
        "# TIY 8.1 Message\n",
        "def display_message():\n",
        "    msg = \"Im learning about functions\"\n",
        "    print(msg)\n",
        "\n",
        "display_message()"
      ]
    },
    {
      "cell_type": "code",
      "source": [
        "# TIY 8.2 Favorite Book\n",
        "def favorite_book(title):\n",
        "    print(f\"{title} is one of my favorite books.\")\n",
        "\n",
        "favorite_book('Dune')"
      ],
      "metadata": {
        "colab": {
          "base_uri": "https://localhost:8080/"
        },
        "id": "xJpFLtYW0lOQ",
        "outputId": "da488842-fc01-459f-8f20-025628af0b47"
      },
      "execution_count": 2,
      "outputs": [
        {
          "output_type": "stream",
          "name": "stdout",
          "text": [
            "Dune is one of my favorite books.\n"
          ]
        }
      ]
    },
    {
      "cell_type": "code",
      "source": [
        "# TIY 8.3 T-shirt\n",
        "def make_shirt(size, message):\n",
        "    print(f\"\\nI'm going to make a {size} t-shirt.\")\n",
        "    print(f'It will say, \"{message}\"')\n",
        "\n",
        "make_shirt('large', 'I love Python!')\n",
        "make_shirt(message=\"Readability counts.\", size='medium')"
      ],
      "metadata": {
        "colab": {
          "base_uri": "https://localhost:8080/"
        },
        "id": "VBbdwBx90vuA",
        "outputId": "a661ae21-f201-403b-e1ef-1d5c9b596d97"
      },
      "execution_count": 3,
      "outputs": [
        {
          "output_type": "stream",
          "name": "stdout",
          "text": [
            "\n",
            "I'm going to make a large t-shirt.\n",
            "It will say, \"I love Python!\"\n",
            "\n",
            "I'm going to make a medium t-shirt.\n",
            "It will say, \"Readability counts.\"\n"
          ]
        }
      ]
    },
    {
      "cell_type": "code",
      "source": [
        "# TIY 8.4 Large Shirts\n",
        "def make_shirt(size='large', message='I love Python!'):\n",
        "    print(f\"\\nI'm going to make a {size} t-shirt.\")\n",
        "    print(f'It will say, \"{message}\"')\n",
        "\n",
        "make_shirt()\n",
        "make_shirt(size='medium')\n",
        "make_shirt('small', 'Programmers are cool.')"
      ],
      "metadata": {
        "colab": {
          "base_uri": "https://localhost:8080/"
        },
        "id": "5Uq00ndN1Bsd",
        "outputId": "d47c8b9e-029e-4d50-b78e-daff1548d2e1"
      },
      "execution_count": 4,
      "outputs": [
        {
          "output_type": "stream",
          "name": "stdout",
          "text": [
            "\n",
            "I'm going to make a large t-shirt.\n",
            "It will say, \"I love Python!\"\n",
            "\n",
            "I'm going to make a medium t-shirt.\n",
            "It will say, \"I love Python!\"\n",
            "\n",
            "I'm going to make a small t-shirt.\n",
            "It will say, \"Programmers are loopy.\"\n"
          ]
        }
      ]
    },
    {
      "cell_type": "code",
      "source": [
        "# func8 function\n",
        "def func8(a, b, c=42):\n",
        "    numbers = [a, b, c]\n",
        "    numbers.sort()\n",
        "    sum_result = sum(numbers)\n",
        "    product_result = 1\n",
        "    for num in numbers:\n",
        "        product_result *= num\n",
        "    return sum_result, product_result, numbers"
      ],
      "metadata": {
        "id": "rn6HVIBa1Q87"
      },
      "execution_count": 6,
      "outputs": []
    },
    {
      "cell_type": "code",
      "source": [
        "#func8 tests\n",
        "result_sum, result_product, sorted_numbers = func8(3, 1)\n",
        "print(\"Sum:\", result_sum)\n",
        "print(\"Product:\", result_product)\n",
        "print(\"Sorted Numbers:\", sorted_numbers)"
      ],
      "metadata": {
        "colab": {
          "base_uri": "https://localhost:8080/"
        },
        "id": "9FRx9lMt2HkS",
        "outputId": "9ea49901-240c-4a19-b6c9-2acbad00b77f"
      },
      "execution_count": 7,
      "outputs": [
        {
          "output_type": "stream",
          "name": "stdout",
          "text": [
            "Sum: 46\n",
            "Product: 126\n",
            "Sorted Numbers: [1, 3, 42]\n"
          ]
        }
      ]
    }
  ]
}