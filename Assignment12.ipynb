{
  "nbformat": 4,
  "nbformat_minor": 0,
  "metadata": {
    "colab": {
      "provenance": [],
      "authorship_tag": "ABX9TyMRKtdPUAy93D03Vsqp/gty",
      "include_colab_link": true
    },
    "kernelspec": {
      "name": "python3",
      "display_name": "Python 3"
    },
    "language_info": {
      "name": "python"
    }
  },
  "cells": [
    {
      "cell_type": "markdown",
      "metadata": {
        "id": "view-in-github",
        "colab_type": "text"
      },
      "source": [
        "<a href=\"https://colab.research.google.com/github/btier002/CSC221_BTIER002/blob/main/Assignment12.ipynb\" target=\"_parent\"><img src=\"https://colab.research.google.com/assets/colab-badge.svg\" alt=\"Open In Colab\"/></a>"
      ]
    },
    {
      "cell_type": "code",
      "execution_count": null,
      "metadata": {
        "id": "AK6n_0H0b5RO"
      },
      "outputs": [],
      "source": [
        "# Money project\n",
        "class Money:\n",
        "    def __init__(self, dollars=0, cents=0):\n",
        "        self.dollars = dollars\n",
        "        self.cents = cents\n",
        "\n",
        "    def __repr__(self):\n",
        "        return f\"${self.dollars}.{self.cents:02}\"\n",
        "\n",
        "    def add(self, other):\n",
        "        total_cents = self.cents + other.cents\n",
        "        extra_dollars = total_cents // 100\n",
        "        total_cents %= 100\n",
        "        total_dollars = self.dollars + other.dollars + extra_dollars\n",
        "        return Money(total_dollars, total_cents)\n",
        "\n",
        "    def subtract(self, other):\n",
        "        total_cents = self.cents - other.cents\n",
        "        if total_cents < 0:\n",
        "            total_cents += 100\n",
        "            self.dollars -= 1\n",
        "        total_dollars = self.dollars - other.dollars\n",
        "        return Money(total_dollars, total_cents)\n",
        "\n",
        "class Bills(Money):\n",
        "    def __init__(self, value, count=0):\n",
        "        super().__init__()\n",
        "        self.value = value\n",
        "        self.count = count\n",
        "\n",
        "    def __repr__(self):\n",
        "        return f\"{self.count} ${self.value} bill(s)\"\n",
        "\n",
        "class Coins(Money):\n",
        "    def __init__(self, value, count=0):\n",
        "        super().__init__()\n",
        "        self.value = value\n",
        "        self.count = count\n",
        "\n",
        "    def __repr__(self):\n",
        "        return f\"{self.count} {self.value}¢ coin(s)\"\n",
        "\n",
        "class OneDollarBill(Bills):\n",
        "    def __init__(self, count=0):\n",
        "        super().__init__(1, count)\n",
        "\n",
        "class FiveDollarBill(Bills):\n",
        "    def __init__(self, count=0):\n",
        "        super().__init__(5, count)\n",
        "\n",
        "class TenDollarBill(Bills):\n",
        "    def __init__(self, count=0):\n",
        "        super().__init__(10, count)\n",
        "\n",
        "class Quarter(Coins):\n",
        "    def __init__(self, count=0):\n",
        "        super().__init__(25, count)\n",
        "\n",
        "class Dime(Coins):\n",
        "    def __init__(self, count=0):\n",
        "        super().__init__(10, count)\n",
        "\n",
        "class Nickel(Coins):\n",
        "    def __init__(self, count=0):\n",
        "        super().__init__(5, count)\n",
        "\n",
        "class Penny(Coins):\n",
        "    def __init__(self, count=0):\n",
        "        super().__init__(1, count)\n",
        "\n",
        "# Wallet 1\n",
        "if __name__ == \"__main__\":\n",
        "    money1 = OneDollarBill(2)\n",
        "    money2 = Quarter(5)\n",
        "    print(money1)  # Output: 2 $1 bill(s)\n",
        "    print(money2)  # Output: 5 25¢ coin(s)\n",
        "\n",
        "    total_money = money1.add(money2)\n",
        "    print(total_money)  # Output: $7.25\n",
        "\n",
        "    subtracted_money = money1.subtract(money2)\n",
        "    print(subtracted_money)  # Output: 1 $1 bill(s)\n"
      ]
    }
  ]
}