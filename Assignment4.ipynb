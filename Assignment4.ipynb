{
  "nbformat": 4,
  "nbformat_minor": 0,
  "metadata": {
    "colab": {
      "provenance": [],
      "authorship_tag": "ABX9TyNQ4pzHhBPo9PL59EzGU2Mz",
      "include_colab_link": true
    },
    "kernelspec": {
      "name": "python3",
      "display_name": "Python 3"
    },
    "language_info": {
      "name": "python"
    }
  },
  "cells": [
    {
      "cell_type": "markdown",
      "metadata": {
        "id": "view-in-github",
        "colab_type": "text"
      },
      "source": [
        "<a href=\"https://colab.research.google.com/github/btier002/CSC221_BTIER002/blob/main/Assignment4.ipynb\" target=\"_parent\"><img src=\"https://colab.research.google.com/assets/colab-badge.svg\" alt=\"Open In Colab\"/></a>"
      ]
    },
    {
      "cell_type": "code",
      "execution_count": null,
      "metadata": {
        "id": "nHY3qyIoFTml",
        "colab": {
          "base_uri": "https://localhost:8080/"
        },
        "outputId": "67df2a26-c7af-4286-8e89-6182243e5aa5"
      },
      "outputs": [
        {
          "output_type": "stream",
          "name": "stdout",
          "text": [
            "['Bea', 'graham', 'mikaela']\n"
          ]
        }
      ],
      "source": [
        "# TIY 3.1 Names\n",
        "names = ['Bea', 'graham', 'mikaela']\n",
        "print(names)"
      ]
    },
    {
      "cell_type": "code",
      "source": [
        "# TIY 3.2\n",
        "names = ['ron', 'tyler', 'dani']\n",
        "\n",
        "msg = f\"Hello, {names[0].title()}!\"\n",
        "print(msg)\n",
        "\n",
        "msg = f\"Hello, {names[1].title()}!\"\n",
        "print(msg)\n",
        "\n",
        "msg = f\"Hello, {names[2].title()}!\"\n",
        "print(msg)\n"
      ],
      "metadata": {
        "colab": {
          "base_uri": "https://localhost:8080/"
        },
        "id": "Bg4Qk4zCs8PS",
        "outputId": "92d97995-d390-4b06-cae1-cb024866385d"
      },
      "execution_count": null,
      "outputs": [
        {
          "output_type": "stream",
          "name": "stdout",
          "text": [
            "whats up Bea\n",
            "hello graham\n",
            "hi mikaela\n"
          ]
        }
      ]
    },
    {
      "cell_type": "code",
      "source": [
        "# TIY 3.3"
      ],
      "metadata": {
        "id": "hR844mscDG5L"
      },
      "execution_count": null,
      "outputs": []
    },
    {
      "cell_type": "code",
      "source": [
        "# TIY 3.4\n",
        "guests = ['john cena', 'dwayne johnson', 'the undertaker']\n",
        "\n",
        "name = guests[0].title()\n",
        "print(f\"{name}, please come to dinner.\")\n",
        "\n",
        "name = guests[1].title()\n",
        "print(f\"{name}, please come to dinner.\")\n",
        "\n",
        "name = guests[2].title()\n",
        "print(f\"{name}, please come to dinner.\")"
      ],
      "metadata": {
        "id": "vSRzVK3gwB3m"
      },
      "execution_count": null,
      "outputs": []
    },
    {
      "cell_type": "code",
      "source": [
        "# TIY 3.5\n",
        "\n",
        "guests = ['john cena', 'dwayne johnson', 'the undertaker']\n",
        "\n",
        "name = guests[0].title()\n",
        "print(f\"{name}, please come to dinner.\")\n",
        "\n",
        "name = guests[1].title()\n",
        "print(f\"{name}, please come to dinner.\")\n",
        "\n",
        "name = guests[2].title()\n",
        "print(f\"{name}, please come to dinner.\")\n",
        "\n",
        "name = guests[1].title()\n",
        "print(f\"\\nSorry, {name} can't make it to dinner.\")\n",
        "\n",
        "\n",
        "del(guests[1])\n",
        "guests.insert(1, 'bea tierney')\n",
        "\n",
        "name = guests[0].title()\n",
        "print(f\"\\n{name}, please come to dinner.\")\n",
        "\n",
        "name = guests[1].title()\n",
        "print(f\"{name}, please come to dinner.\")\n",
        "\n",
        "name = guests[2].title()\n",
        "print(f\"{name}, please come to dinner.\")"
      ],
      "metadata": {
        "id": "nbFOpAbmDN-Y"
      },
      "execution_count": null,
      "outputs": []
    },
    {
      "cell_type": "code",
      "source": [
        "# TIY 3.6\n",
        "guests = ['john cena', 'dwayne johnson', 'the undertaker']\n",
        "\n",
        "name = guests[0].title()\n",
        "print(f\"{name}, please come to dinner.\")\n",
        "\n",
        "name = guests[1].title()\n",
        "print(f\"{name}, please come to dinner.\")\n",
        "\n",
        "name = guests[2].title()\n",
        "print(f\"{name}, please come to dinner.\")\n",
        "\n",
        "name = guests[1].title()\n",
        "print(f\"\\nSorry, {name} can't make it to dinner.\")\n",
        "\n",
        "del(guests[1])\n",
        "guests.insert(1, 'bea tierney')\n",
        "\n",
        "name = guests[0].title()\n",
        "print(f\"\\n{name}, please come to dinner.\")\n",
        "\n",
        "name = guests[1].title()\n",
        "print(f\"{name}, please come to dinner.\")\n",
        "\n",
        "name = guests[2].title()\n",
        "print(f\"{name}, please come to dinner.\")\n",
        "\n",
        "print(\"\\nWe got a bigger table!\")\n",
        "guests.insert(0, 'ryan reynolds')\n",
        "guests.insert(2, 'margo robbie')\n",
        "guests.append('joe biden')\n",
        "\n",
        "name = guests[0].title()\n",
        "print(f\"{name}, please come to dinner.\")\n",
        "\n",
        "name = guests[1].title()\n",
        "print(f\"{name}, please come to dinner.\")\n",
        "\n",
        "name = guests[2].title()\n",
        "print(f\"{name}, please come to dinner.\")\n",
        "\n",
        "name = guests[3].title()\n",
        "print(f\"{name}, please come to dinner.\")\n",
        "\n",
        "name = guests[4].title()\n",
        "print(f\"{name}, please come to dinner.\")\n",
        "\n",
        "name = guests[5].title()\n",
        "print(f\"{name}, please come to dinner.\")"
      ],
      "metadata": {
        "id": "GNP0gVMGzcSp"
      },
      "execution_count": null,
      "outputs": []
    },
    {
      "cell_type": "code",
      "source": [
        "#TIY 3.7\n",
        "guests = ['john cena', 'dwayne johnson', 'the undertaker']\n",
        "\n",
        "name = guests[0].title()\n",
        "print(f\"{name}, please come to dinner.\")\n",
        "\n",
        "name = guests[1].title()\n",
        "print(f\"{name}, please come to dinner.\")\n",
        "\n",
        "name = guests[2].title()\n",
        "print(f\"{name}, please come to dinner.\")\n",
        "\n",
        "name = guests[1].title()\n",
        "print(f\"\\nSorry, {name} can't make it to dinner.\")\n",
        "\n",
        "del(guests[1])\n",
        "guests.insert(1, 'bea tierney')\n",
        "\n",
        "name = guests[0].title()\n",
        "print(f\"\\n{name}, please come to dinner.\")\n",
        "\n",
        "name = guests[1].title()\n",
        "print(f\"{name}, please come to dinner.\")\n",
        "\n",
        "name = guests[2].title()\n",
        "print(f\"{name}, please come to dinner.\")\n",
        "\n",
        "print(\"\\nWe got a bigger table!\")\n",
        "guests.insert(0, 'ryan reynolds')\n",
        "guests.insert(2, 'margo robbie')\n",
        "guests.append('joe biden')\n",
        "\n",
        "name = guests[0].title()\n",
        "print(f\"{name}, please come to dinner.\")\n",
        "\n",
        "name = guests[1].title()\n",
        "print(f\"{name}, please come to dinner.\")\n",
        "\n",
        "name = guests[2].title()\n",
        "print(f\"{name}, please come to dinner.\")\n",
        "\n",
        "name = guests[3].title()\n",
        "print(f\"{name}, please come to dinner.\")\n",
        "\n",
        "name = guests[4].title()\n",
        "print(f\"{name}, please come to dinner.\")\n",
        "\n",
        "name = guests[5].title()\n",
        "print(f\"{name}, please come to dinner.\")\n",
        "\n",
        "print(\"\\nSorry, we can only invite two people to dinner.\")\n",
        "\n",
        "name = guests.pop()\n",
        "print(f\"Sorry, {name.title()} there's no room at the table.\")\n",
        "\n",
        "name = guests.pop()\n",
        "print(f\"Sorry, {name.title()} there's no room at the table.\")\n",
        "\n",
        "name = guests.pop()\n",
        "print(f\"Sorry, {name.title()} there's no room at the table.\")\n",
        "\n",
        "name = guests.pop()\n",
        "print(f\"Sorry, {name.title()} there's no room at the table.\")\n",
        "\n",
        "name = guests[0].title()\n",
        "print(f\"{name}, please come to dinner.\")\n",
        "\n",
        "name = guests[1].title()\n",
        "print(f\"{name}, please come to dinner.\")\n",
        "\n",
        "del(guests[0])\n",
        "del(guests[0])\n",
        "\n",
        "print(guests)"
      ],
      "metadata": {
        "id": "Gz3Q1TQdGX35"
      },
      "execution_count": null,
      "outputs": []
    },
    {
      "cell_type": "code",
      "source": [
        "#TIY 3.8\n",
        "locations = ['italy', 'greece', 'himalayas', 'russia', 'hawaii']\n",
        "\n",
        "print(\"Original order:\")\n",
        "print(locations)\n",
        "\n",
        "print(\"\\nAlphabetical:\")\n",
        "print(sorted(locations))\n",
        "\n",
        "print(\"\\nOriginal order:\")\n",
        "print(locations)\n",
        "\n",
        "print(\"\\nReverse alphabetical:\")\n",
        "print(sorted(locations, reverse=True))\n",
        "\n",
        "print(\"\\nOriginal order:\")\n",
        "print(locations)\n",
        "\n",
        "print(\"\\nReversed:\")\n",
        "locations.reverse()\n",
        "print(locations)\n",
        "\n",
        "print(\"\\nOriginal order:\")\n",
        "locations.reverse()\n",
        "print(locations)\n",
        "\n",
        "print(\"\\nAlphabetical\")\n",
        "locations.sort()\n",
        "print(locations)\n",
        "\n",
        "print(\"\\nReverse alphabetical\")\n",
        "locations.sort(reverse=True)\n",
        "print(locations)"
      ],
      "metadata": {
        "id": "E4lyPn_RG7k-"
      },
      "execution_count": null,
      "outputs": []
    }
  ]
}