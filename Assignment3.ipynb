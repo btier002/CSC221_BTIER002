{
  "nbformat": 4,
  "nbformat_minor": 0,
  "metadata": {
    "colab": {
      "provenance": [],
      "authorship_tag": "ABX9TyPUiVfmzhTgYIGDnOsTffbl",
      "include_colab_link": true
    },
    "kernelspec": {
      "name": "python3",
      "display_name": "Python 3"
    },
    "language_info": {
      "name": "python"
    }
  },
  "cells": [
    {
      "cell_type": "markdown",
      "metadata": {
        "id": "view-in-github",
        "colab_type": "text"
      },
      "source": [
        "<a href=\"https://colab.research.google.com/github/btier002/CSC221_BTIER002/blob/main/Assignment3.ipynb\" target=\"_parent\"><img src=\"https://colab.research.google.com/assets/colab-badge.svg\" alt=\"Open In Colab\"/></a>"
      ]
    },
    {
      "cell_type": "code",
      "execution_count": null,
      "metadata": {
        "colab": {
          "base_uri": "https://localhost:8080/"
        },
        "id": "FB6TGzFu8t_G",
        "outputId": "d58b970d-d8fc-4ca2-88b8-7d0812dd15b3"
      },
      "outputs": [
        {
          "output_type": "stream",
          "name": "stdout",
          "text": [
            "Hello Wonderful World!!\n"
          ]
        }
      ],
      "source": [
        "# TIY 2-1\n",
        "helloMessage = 'Hello Wonderful World!!'\n",
        "print(helloMessage)"
      ]
    },
    {
      "cell_type": "code",
      "source": [
        "# TIY 2-2\n",
        "helloMessage ='Hello Wonderful World!!'\n",
        "print(helloMessage)\n",
        "\n",
        "helloMessage = 'Awesome!!'\n",
        "print(helloMessage)"
      ],
      "metadata": {
        "colab": {
          "base_uri": "https://localhost:8080/"
        },
        "id": "zD3QVK-tAysB",
        "outputId": "ca0583ba-f784-4993-d783-aa1d201b08d1"
      },
      "execution_count": null,
      "outputs": [
        {
          "output_type": "stream",
          "name": "stdout",
          "text": [
            "Hello Wonderful World!!\n",
            "Awesome!!\n"
          ]
        }
      ]
    },
    {
      "cell_type": "code",
      "source": [
        "# TIY 2-3\n",
        "name = 'Bea'\n",
        "\n",
        "print(f'Hello {name} are you ready to learn python?')"
      ],
      "metadata": {
        "colab": {
          "base_uri": "https://localhost:8080/"
        },
        "id": "dZ2-7awqBHVi",
        "outputId": "13998d1a-1a4a-4fe3-c56d-3daa5a520e95"
      },
      "execution_count": null,
      "outputs": [
        {
          "output_type": "stream",
          "name": "stdout",
          "text": [
            "Hello Bea are you ready to learn python?\n"
          ]
        }
      ]
    },
    {
      "cell_type": "code",
      "source": [
        "# TIY 2-4\n",
        "name = 'Bea Tierney'\n",
        "print(name.upper())\n",
        "print(name.lower())\n",
        "print(name.title())\n"
      ],
      "metadata": {
        "colab": {
          "base_uri": "https://localhost:8080/"
        },
        "id": "W5X6vL1rBkwQ",
        "outputId": "0db04aad-12dc-421d-da2a-49c371406b45"
      },
      "execution_count": null,
      "outputs": [
        {
          "output_type": "stream",
          "name": "stdout",
          "text": [
            "BEA TIERNEY\n",
            "bea tierney\n",
            "Bea Tierney\n"
          ]
        }
      ]
    },
    {
      "cell_type": "code",
      "source": [
        "# TIY 2-5\n",
        "quote = 'give me six hours to chop down a tree and I will spend the first four sharpening the axe - '\n",
        "author = 'abraham lincoln'\n",
        "\n",
        "print(f'{author.title()} once said, {quote.title()}.')"
      ],
      "metadata": {
        "colab": {
          "base_uri": "https://localhost:8080/"
        },
        "id": "HfeD0RsVCCYN",
        "outputId": "4281f7a1-fb80-4bb0-cc7d-ea6e49cdb43b"
      },
      "execution_count": null,
      "outputs": [
        {
          "output_type": "stream",
          "name": "stdout",
          "text": [
            "Abraham Lincoln once said, Give Me Six Hours To Chop Down A Tree And I Will Spend The First Four Sharpening The Axe - .\n"
          ]
        }
      ]
    },
    {
      "cell_type": "code",
      "source": [
        "# TIY 2-6\n",
        "famous_person = 'abraham lincoln'\n",
        "message = (f' {famous_person.title()} once said, give me six hours to chop down a tree and I will spend the first four sharpening the axe - ')\n",
        "print(message)"
      ],
      "metadata": {
        "colab": {
          "base_uri": "https://localhost:8080/"
        },
        "id": "mcYtnt6BGnXm",
        "outputId": "a0feabc8-289b-4d32-d4a2-589e9c91dc7b"
      },
      "execution_count": null,
      "outputs": [
        {
          "output_type": "stream",
          "name": "stdout",
          "text": [
            " Abraham Lincoln once said, give me six hours to chop down a tree and I will spend the first four sharpening the axe - \n"
          ]
        }
      ]
    },
    {
      "cell_type": "code",
      "source": [
        "# TIY 2-7\n",
        "name =  \"  bea \"\n",
        "name.rstrip()\n",
        "print(name)\n",
        "name.lstrip()\n",
        "print(name)\n",
        "name.strip()\n",
        "print(name)"
      ],
      "metadata": {
        "colab": {
          "base_uri": "https://localhost:8080/"
        },
        "id": "JAsaNDNWHK2n",
        "outputId": "c0a9c80a-1e90-41c7-b419-fe59808e7f5b"
      },
      "execution_count": null,
      "outputs": [
        {
          "output_type": "stream",
          "name": "stdout",
          "text": [
            "  bea \n",
            "  bea \n",
            "  bea \n"
          ]
        }
      ]
    },
    {
      "cell_type": "code",
      "source": [
        "# TIY 2-8\n",
        "\n",
        "filename = \"python_notes.txt\"\n",
        "filename.removesuffix('.txt')\n",
        "print(filename)"
      ],
      "metadata": {
        "colab": {
          "base_uri": "https://localhost:8080/"
        },
        "id": "KmgaCWM0JOan",
        "outputId": "29e52015-0b25-4448-c29f-5ade848d6a32"
      },
      "execution_count": null,
      "outputs": [
        {
          "output_type": "stream",
          "name": "stdout",
          "text": [
            "python_notes.txt\n"
          ]
        }
      ]
    },
    {
      "cell_type": "code",
      "source": [
        "# TIY"
      ],
      "metadata": {
        "id": "O5OgBfkHK_1C"
      },
      "execution_count": null,
      "outputs": []
    }
  ]
}